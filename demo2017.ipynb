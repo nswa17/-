{
 "cells": [
  {
   "cell_type": "code",
   "execution_count": 1,
   "metadata": {
    "collapsed": false,
    "deletable": true,
    "editable": true,
    "scrolled": true
   },
   "outputs": [
    {
     "name": "stderr",
     "output_type": "stream",
     "text": [
      "\u001b[1m\u001b[34mINFO: Cloning ShingakuMatching from https://github.com/nswa17/ShingakuMatching\n",
      "\u001b[0m\u001b[1m\u001b[34mINFO: Computing changes...\n",
      "\u001b[0m\u001b[1m\u001b[34mINFO: No packages to install, update or remove\n",
      "\u001b[0m"
     ]
    }
   ],
   "source": [
    "Pkg.clone(\"https://github.com/nswa17/ShingakuMatching\")"
   ]
  },
  {
   "cell_type": "code",
   "execution_count": 2,
   "metadata": {
    "collapsed": false
   },
   "outputs": [
    {
     "name": "stderr",
     "output_type": "stream",
     "text": [
      "\u001b[1m\u001b[34mINFO: Testing ShingakuMatching\n",
      "\u001b[0mWARNING: Method definition describe(AbstractArray) in module StatsBase at /Users/neon/.julia/v0.5/StatsBase/src/scalarstats.jl:573 overwritten in module DataFrames at /Users/neon/.julia/v0.5/DataFrames/src/abstractdataframe/abstractdataframe.jl:407.\n"
     ]
    },
    {
     "name": "stdout",
     "output_type": "stream",
     "text": [
      "\u001b[1m\u001b[37mTest Summary:               | \u001b[0m\u001b[1m\u001b[32mPass  \u001b[0m\u001b[1m\u001b[34mTotal\u001b[0m\n",
      "  Testing ShingakuMatching.jl | \u001b[1m\u001b[32m  36  \u001b[0m\u001b[1m\u001b[34m   36\u001b[0m\n"
     ]
    },
    {
     "name": "stderr",
     "output_type": "stream",
     "text": [
      "\u001b[1m\u001b[34mINFO: ShingakuMatching tests passed\n",
      "\u001b[0m"
     ]
    }
   ],
   "source": [
    "Pkg.test(\"ShingakuMatching\")"
   ]
  },
  {
   "cell_type": "code",
   "execution_count": 3,
   "metadata": {
    "collapsed": false,
    "deletable": true,
    "editable": true
   },
   "outputs": [
    {
     "name": "stderr",
     "output_type": "stream",
     "text": [
      "WARNING: Method definition describe(AbstractArray) in module StatsBase at /Users/neon/.julia/v0.5/StatsBase/src/scalarstats.jl:573 overwritten in module DataFrames at /Users/neon/.julia/v0.5/DataFrames/src/abstractdataframe/abstractdataframe.jl:407.\n"
     ]
    }
   ],
   "source": [
    "using ShingakuMatching"
   ]
  },
  {
   "cell_type": "code",
   "execution_count": 4,
   "metadata": {
    "collapsed": false,
    "deletable": true,
    "editable": true
   },
   "outputs": [
    {
     "data": {
      "text/plain": [
       "151-element Array{ShingakuMatching.Department,1}:\n",
       " ShingakuMatching.Department(1,118,[1])         \n",
       " ShingakuMatching.Department(2,1,[2])           \n",
       " ShingakuMatching.Department(3,1,[3])           \n",
       " ShingakuMatching.Department(4,1,[5])           \n",
       " ShingakuMatching.Department(5,1,[6])           \n",
       " ShingakuMatching.Department(6,2,[5,6,7])       \n",
       " ShingakuMatching.Department(7,81,[2])          \n",
       " ShingakuMatching.Department(8,3,[5,6,7])       \n",
       " ShingakuMatching.Department(9,18,[1,2,3,5,6,7])\n",
       " ShingakuMatching.Department(10,3,[3])          \n",
       " ShingakuMatching.Department(11,3,[1,2,3,5,6,7])\n",
       " ShingakuMatching.Department(12,2,[3])          \n",
       " ShingakuMatching.Department(13,2,[1,2,3,5,6,7])\n",
       " ⋮                                              \n",
       " ShingakuMatching.Department(140,2,[5,6,7])     \n",
       " ShingakuMatching.Department(141,1,[1,2,3])     \n",
       " ShingakuMatching.Department(142,7,[5,6,7])     \n",
       " ShingakuMatching.Department(143,3,[1,2,3])     \n",
       " ShingakuMatching.Department(144,6,[5,6,7])     \n",
       " ShingakuMatching.Department(145,2,[5,6,7])     \n",
       " ShingakuMatching.Department(146,6,[5,6,7])     \n",
       " ShingakuMatching.Department(147,8,[6])         \n",
       " ShingakuMatching.Department(148,24,[5,6,7])    \n",
       " ShingakuMatching.Department(149,33,[7])        \n",
       " ShingakuMatching.Department(150,8,[5,6,7])     \n",
       " ShingakuMatching.Department(151,6,[5])         "
      ]
     },
     "execution_count": 4,
     "metadata": {},
     "output_type": "execute_result"
    }
   ],
   "source": [
    "departments = read_data()"
   ]
  },
  {
   "cell_type": "code",
   "execution_count": 5,
   "metadata": {
    "collapsed": false,
    "deletable": true,
    "editable": true
   },
   "outputs": [
    {
     "data": {
      "text/plain": [
       "3000-element Array{ShingakuMatching.Student,1}:\n",
       " ShingakuMatching.Student(1,5)   \n",
       " ShingakuMatching.Student(2,1)   \n",
       " ShingakuMatching.Student(3,3)   \n",
       " ShingakuMatching.Student(4,6)   \n",
       " ShingakuMatching.Student(5,7)   \n",
       " ShingakuMatching.Student(6,6)   \n",
       " ShingakuMatching.Student(7,1)   \n",
       " ShingakuMatching.Student(8,2)   \n",
       " ShingakuMatching.Student(9,6)   \n",
       " ShingakuMatching.Student(10,7)  \n",
       " ShingakuMatching.Student(11,2)  \n",
       " ShingakuMatching.Student(12,6)  \n",
       " ShingakuMatching.Student(13,2)  \n",
       " ⋮                               \n",
       " ShingakuMatching.Student(2989,1)\n",
       " ShingakuMatching.Student(2990,7)\n",
       " ShingakuMatching.Student(2991,7)\n",
       " ShingakuMatching.Student(2992,2)\n",
       " ShingakuMatching.Student(2993,1)\n",
       " ShingakuMatching.Student(2994,1)\n",
       " ShingakuMatching.Student(2995,3)\n",
       " ShingakuMatching.Student(2996,3)\n",
       " ShingakuMatching.Student(2997,1)\n",
       " ShingakuMatching.Student(2998,7)\n",
       " ShingakuMatching.Student(2999,1)\n",
       " ShingakuMatching.Student(3000,3)"
      ]
     },
     "execution_count": 5,
     "metadata": {},
     "output_type": "execute_result"
    }
   ],
   "source": [
    "s_num = 3000 #number of students\n",
    "students = generate_students(s_num)"
   ]
  },
  {
   "cell_type": "code",
   "execution_count": 6,
   "metadata": {
    "collapsed": false,
    "deletable": true,
    "editable": true
   },
   "outputs": [
    {
     "data": {
      "text/plain": [
       "(Array{Int64,1}[[120,82,89,104,35,87,122,103,4,145  …  118,127,102,29,139,19,98,99,125,60],[68,19,1,45,121,33,39,94,124,56  …  120,58,37,141,143,47,25,126,130,9],[10,32,60,121,86,26,40,17,46,62  …  100,124,49,84,53,122,61,64,34,29],[142,126,99,58,140,137,6,27,25,122  …  39,17,35,75,119,100,67,49,93,133],[99,146,150,8,49,102,97,81,23,9  …  139,25,130,83,77,149,43,6,134,123],[139,83,37,125,136,100,128,127,120,41  …  6,146,121,150,145,43,93,8,129,33],[100,141,124,126,53,13,47,123,41,62  …  102,35,31,120,25,45,138,9,54,143],[72,121,9,27,60,97,123,138,47,112  …  58,21,23,100,31,49,45,43,141,76],[147,139,35,84,6,56,127,51,93,130  …  5,112,124,45,121,33,132,91,133,81],[126,140,97,86,43,81,121,49,41,127  …  133,150,84,73,54,9,45,102,144,136]  …  [19,73,96,54,31,139,109,37,120,140  …  133,84,130,144,51,123,122,134,136,13],[27,84,37,138,112,31,143,45,141,51  …  69,49,2,100,43,39,47,17,86,97],[97,54,53,123,29,43,76,13,1,45  …  39,122,100,72,74,35,58,130,68,143],[43,29,58,45,68,84,33,47,122,31  …  25,102,11,41,97,39,121,141,72,1],[13,20,56,36,18,126,52,41,42,49  …  30,14,9,70,100,50,48,40,143,76],[124,55,35,26,25,65,28,58,60,141  …  43,86,16,9,100,56,22,12,32,39],[15,53,74,56,54,31,33,84,123,21  …  138,45,100,124,29,1,49,102,121,122],[134,75,100,19,131,37,96,53,39,93  …  127,35,67,73,9,25,62,91,45,17],[15,45,49,1,53,9,68,124,121,54  …  33,94,141,100,27,86,25,130,21,37],[41,53,122,18,30,19,29,46,48,97  …  43,112,51,102,143,55,61,36,130,3]],Array{Int64,1}[[1165,412,1668,272,2849,2654,982,961,1769,1636  …  2716,1781,221,2155,100,634,2503,2525,372,914],[1391,1848,938,2108,704,2436,2544,2047,2481,2534  …  2072,1614,323,1346,2062,2557,2289,609,593,2162],[1957,529,1738,673,1454,2369,984,942,1032,867  …  2751,1130,1953,391,1846,1011,2642,1920,2635,275],[1254,1916,2923,284,2154,457,1230,2722,1204,1394  …  1322,238,2017,2435,2441,2976,83,2076,546,86],[1829,6,1743,2228,2498,719,1687,788,12,2006  …  2356,1838,2241,1207,660,2805,1958,1229,2387,196],[1133,2624,605,1721,2306,490,2181,1547,1333,447  …  2504,2345,1481,1243,2750,1258,1119,2496,162,2387],[2521,523,2690,8,499,1360,878,2942,2844,1727  …  2842,1458,733,2818,2162,413,2431,112,2172,2046],[2945,861,2236,1052,1841,2153,469,934,2990,1589  …  2602,378,2193,2607,2903,781,1853,1042,350,1799],[1857,2379,1242,1122,1949,2524,1652,676,667,1016  …  2531,2072,1913,2016,2551,1370,1269,2474,29,319],[699,2281,2529,478,529,1639,2147,853,551,2751  …  224,2034,1503,379,1957,1821,393,480,1533,137]  …  [26,2852,487,102,2969,1546,773,1551,311,1467  …  2773,2846,313,966,2966,915,2497,1477,719,264],[154,493,2322,303,2737,986,731,1836,1973,943  …  1061,2649,1755,134,2845,1087,2633,2284,1164,2165],[249,2791,1064,287,2333,998,1557,2259,63,2425  …  600,2218,2006,845,540,541,1126,2970,694,278],[1395,2225,1369,875,1356,676,1563,2157,2967,1862  …  1256,940,880,2687,2951,1835,1381,1647,1918,2295],[773,2372,662,336,1380,919,2160,996,2432,2091  …  1762,2328,389,1999,1038,2153,816,1481,2574,956],[2149,2745,2278,1361,2624,2291,1762,2215,1174,1135  …  688,2615,1749,816,1627,906,1688,79,1426,2507],[559,1511,2852,1826,1114,1803,951,1400,2455,1028  …  2805,1816,2858,1841,1269,35,67,2073,2018,574],[1097,888,1031,2664,45,882,2451,1092,230,2780  …  1340,2320,418,1476,2050,2095,2096,2665,543,1649],[1699,540,1092,1340,2798,2331,2560,252,2428,101  …  269,1822,1799,1471,834,1913,20,1624,760,2456],[1540,1963,156,2576,2504,584,1033,1803,2706,687  …  2187,2385,627,1236,251,447,1648,1617,1560,734]],[118,1,1,1,1,2,81,3,18,3  …  7,3,6,2,6,8,24,33,8,6])"
      ]
     },
     "execution_count": 6,
     "metadata": {},
     "output_type": "execute_result"
    }
   ],
   "source": [
    "s_prefs, f_prefs, caps = get_random_prefs(departments, students)"
   ]
  },
  {
   "cell_type": "code",
   "execution_count": null,
   "metadata": {
    "collapsed": false
   },
   "outputs": [],
   "source": [
    "s_matched, f_matched, indptr = deferred_acceptance(s_prefs, f_prefs, caps)# call one to many deferred_acceptance algorithm"
   ]
  }
 ],
 "metadata": {
  "kernelspec": {
   "display_name": "Julia 0.5.2",
   "language": "julia",
   "name": "julia-0.5"
  },
  "language_info": {
   "file_extension": ".jl",
   "mimetype": "application/julia",
   "name": "julia",
   "version": "0.5.2"
  }
 },
 "nbformat": 4,
 "nbformat_minor": 2
}
