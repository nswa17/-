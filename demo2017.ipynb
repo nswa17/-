{
 "cells": [
  {
   "cell_type": "code",
   "execution_count": 1,
   "metadata": {
    "collapsed": false,
    "deletable": true,
    "editable": true,
    "scrolled": true
   },
   "outputs": [
    {
     "name": "stderr",
     "output_type": "stream",
     "text": [
      "\u001b[1m\u001b[34mINFO: Cloning ShingakuMatching from https://github.com/nswa17/ShingakuMatching\n",
      "\u001b[0m\u001b[1m\u001b[34mINFO: Computing changes...\n",
      "\u001b[0m\u001b[1m\u001b[34mINFO: No packages to install, update or remove\n",
      "\u001b[0m"
     ]
    }
   ],
   "source": [
    "Pkg.clone(\"https://github.com/nswa17/ShingakuMatching\")"
   ]
  },
  {
   "cell_type": "code",
   "execution_count": 2,
   "metadata": {
    "collapsed": false
   },
   "outputs": [
    {
     "name": "stderr",
     "output_type": "stream",
     "text": [
      "WARNING: Method definition describe(AbstractArray) in module StatsBase at /Users/neon/.julia/v0.5/StatsBase/src/scalarstats.jl:573 overwritten in module DataFrames at /Users/neon/.julia/v0.5/DataFrames/src/abstractdataframe/abstractdataframe.jl:407.\n"
     ]
    }
   ],
   "source": [
    "using ShingakuMatching"
   ]
  },
  {
   "cell_type": "code",
   "execution_count": 3,
   "metadata": {
    "collapsed": false
   },
   "outputs": [
    {
     "data": {
      "text/plain": [
       "151-element Array{ShingakuMatching.Faculty,1}:\n",
       " ShingakuMatching.Faculty(1,118,[1])         \n",
       " ShingakuMatching.Faculty(2,1,[2])           \n",
       " ShingakuMatching.Faculty(3,1,[3])           \n",
       " ShingakuMatching.Faculty(4,1,[5])           \n",
       " ShingakuMatching.Faculty(5,1,[6])           \n",
       " ShingakuMatching.Faculty(6,2,[5,6,7])       \n",
       " ShingakuMatching.Faculty(7,81,[2])          \n",
       " ShingakuMatching.Faculty(8,3,[5,6,7])       \n",
       " ShingakuMatching.Faculty(9,18,[1,2,3,5,6,7])\n",
       " ShingakuMatching.Faculty(10,3,[3])          \n",
       " ShingakuMatching.Faculty(11,3,[1,2,3,5,6,7])\n",
       " ShingakuMatching.Faculty(12,2,[3])          \n",
       " ShingakuMatching.Faculty(13,2,[1,2,3,5,6,7])\n",
       " ⋮                                           \n",
       " ShingakuMatching.Faculty(140,2,[5,6,7])     \n",
       " ShingakuMatching.Faculty(141,1,[1,2,3])     \n",
       " ShingakuMatching.Faculty(142,7,[5,6,7])     \n",
       " ShingakuMatching.Faculty(143,3,[1,2,3])     \n",
       " ShingakuMatching.Faculty(144,6,[5,6,7])     \n",
       " ShingakuMatching.Faculty(145,2,[5,6,7])     \n",
       " ShingakuMatching.Faculty(146,6,[5,6,7])     \n",
       " ShingakuMatching.Faculty(147,8,[6])         \n",
       " ShingakuMatching.Faculty(148,24,[5,6,7])    \n",
       " ShingakuMatching.Faculty(149,33,[7])        \n",
       " ShingakuMatching.Faculty(150,8,[5,6,7])     \n",
       " ShingakuMatching.Faculty(151,6,[5])         "
      ]
     },
     "execution_count": 3,
     "metadata": {},
     "output_type": "execute_result"
    }
   ],
   "source": [
    "faculties = read_faculties()"
   ]
  },
  {
   "cell_type": "code",
   "execution_count": 4,
   "metadata": {
    "collapsed": false
   },
   "outputs": [
    {
     "data": {
      "text/plain": [
       "3000-element Array{ShingakuMatching.Student,1}:\n",
       " ShingakuMatching.Student(1,6)   \n",
       " ShingakuMatching.Student(2,3)   \n",
       " ShingakuMatching.Student(3,1)   \n",
       " ShingakuMatching.Student(4,5)   \n",
       " ShingakuMatching.Student(5,7)   \n",
       " ShingakuMatching.Student(6,3)   \n",
       " ShingakuMatching.Student(7,1)   \n",
       " ShingakuMatching.Student(8,1)   \n",
       " ShingakuMatching.Student(9,1)   \n",
       " ShingakuMatching.Student(10,5)  \n",
       " ShingakuMatching.Student(11,1)  \n",
       " ShingakuMatching.Student(12,5)  \n",
       " ShingakuMatching.Student(13,7)  \n",
       " ⋮                               \n",
       " ShingakuMatching.Student(2989,7)\n",
       " ShingakuMatching.Student(2990,6)\n",
       " ShingakuMatching.Student(2991,1)\n",
       " ShingakuMatching.Student(2992,3)\n",
       " ShingakuMatching.Student(2993,1)\n",
       " ShingakuMatching.Student(2994,2)\n",
       " ShingakuMatching.Student(2995,2)\n",
       " ShingakuMatching.Student(2996,7)\n",
       " ShingakuMatching.Student(2997,2)\n",
       " ShingakuMatching.Student(2998,1)\n",
       " ShingakuMatching.Student(2999,2)\n",
       " ShingakuMatching.Student(3000,1)"
      ]
     },
     "execution_count": 4,
     "metadata": {},
     "output_type": "execute_result"
    }
   ],
   "source": [
    "s_num = 3000 #number of students\n",
    "students = generate_students(s_num)"
   ]
  },
  {
   "cell_type": "code",
   "execution_count": 5,
   "metadata": {
    "collapsed": false
   },
   "outputs": [
    {
     "data": {
      "text/plain": [
       "(Array{Int64,1}[[135,60,125,99,127,19,29,139,112,102  …  25,124,84,23,111,122,145,150,35,120],[9,126,130,37,141,120,143,47,123,25  …  36,30,12,50,22,20,19,38,52,16],[29,122,53,124,100,45,120,97,84,49  …  47,43,31,39,27,62,17,86,121,60],[98,105,82,93,80,115,67,4,49,133  …  137,27,95,25,58,99,89,88,126,142],[123,134,6,149,43,77,83,130,25,128  …  97,23,9,81,102,49,8,150,146,99],[33,24,143,43,121,74,20,123,15,52  …  3,32,100,50,18,55,37,59,72,66],[54,143,138,9,120,45,1,31,15,25  …  41,11,62,53,47,126,13,141,124,100],[141,76,43,45,31,49,100,56,23,58  …  123,138,143,97,47,60,27,121,9,72],[121,33,45,112,124,123,29,37,141,19  …  62,72,31,102,130,143,51,56,84,35],[107,144,136,45,54,102,9,95,104,84  …  118,88,86,43,98,89,97,140,126,103]  …  [13,123,122,138,51,130,112,74,84,126  …  25,121,102,49,86,120,37,54,31,19],[97,55,61,70,86,26,17,52,47,20  …  138,112,51,31,45,143,37,57,84,27],[143,68,130,58,74,100,72,35,122,56  …  45,27,62,29,76,43,13,53,54,97],[141,121,97,72,2,41,39,123,11,7  …  100,35,31,33,47,84,45,58,29,43],[76,143,100,9,53,130,43,74,102,86  …  21,58,39,97,19,49,41,126,56,13],[39,99,81,8,56,100,96,9,129,86  …  137,60,127,58,109,25,128,146,35,124],[122,121,7,138,29,102,49,124,100,45  …  11,33,84,2,31,54,56,74,53,15],[17,45,62,9,25,35,15,141,58,123  …  86,138,74,13,39,53,37,143,19,100],[37,21,130,141,86,25,33,126,100,27  …  69,121,11,124,53,9,2,49,15,45],[1,130,68,112,143,56,51,37,43,102  …  121,74,97,86,39,29,19,122,53,41]],Array{Int64,1}[[2444,434,914,372,2722,1651,2833,976,719,2503  …  723,2861,1124,1746,1090,2367,1725,1324,694,2318],[2448,428,2595,1042,2162,1325,1694,2014,728,933  …  1712,1426,1222,1349,1303,330,1780,1702,148,1074],[275,410,1321,2635,2616,1299,1734,452,1275,1546  …  2822,207,2897,1110,406,1435,145,1957,2898,2123],[1357,280,2247,1737,910,325,282,1833,1507,2052  …  1912,1494,2125,2334,2721,2308,2969,1254,2094,364],[196,1578,1739,287,2387,1506,272,1157,2116,712  …  1743,2367,245,953,2943,1527,6,2002,1829,2368],[1837,1295,77,2387,2202,1606,162,2770,1312,1243  …  1281,1206,928,490,2181,2624,605,2925,1133,2475],[1621,632,2046,2745,2172,2978,63,1116,1719,226  …  1079,2069,857,1913,2801,2583,1728,1120,2246,666],[1417,2747,386,1314,1799,2607,1853,2112,1042,2193  …  2606,49,1930,1371,1052,2877,1489,2236,861,2945],[319,29,2474,1269,1370,2016,2551,526,2531,154  …  676,2025,1016,2524,1122,1652,1949,1242,2379,1857],[1743,1622,2446,295,476,2130,1853,361,2274,137  …  1567,977,311,2720,1750,1640,699,1166,1568,1462]  …  [1506,264,719,1234,1477,1093,2966,2846,915,1709  …  1551,102,487,2969,1867,16,2852,2026,2422,26],[2229,447,2165,1164,2845,1866,2284,1755,2237,2633  …  303,1026,2322,1897,967,2604,342,2215,493,154],[694,2970,278,1126,541,1057,2218,845,540,2239  …  2044,1064,2892,1264,724,2791,1878,2025,249,1805],[898,2592,2436,635,1918,1835,2295,1647,1381,2124  …  2525,2157,676,2922,1369,875,2225,1356,220,1395],[956,558,2247,1358,2399,2747,356,2090,692,2626  …  2398,2577,336,662,2158,2372,2233,802,773,717],[2469,292,2845,2340,1088,428,1426,2507,718,217  …  1291,2612,2745,1594,2012,158,1574,542,2149,857],[696,574,642,2573,2680,2018,2073,67,1269,35  …  2365,119,1242,2852,1826,951,559,2928,1265,1512],[2521,1649,543,2665,753,107,2215,1875,1081,1199  …  2342,695,1031,1464,888,616,485,1097,1268,346],[2456,760,1624,120,2379,20,761,2873,904,1799  …  1092,2798,1340,1353,540,503,1699,2579,1251,1693],[2234,734,1297,1560,46,1617,338,1640,2507,901  …  1200,1978,1036,1899,1392,1963,2236,1435,2725,1540]],[118,1,1,1,1,2,81,3,18,3  …  7,3,6,2,6,8,24,33,8,6])"
      ]
     },
     "execution_count": 5,
     "metadata": {},
     "output_type": "execute_result"
    }
   ],
   "source": [
    "s_prefs, f_prefs, caps = get_random_prefs(faculties, students)"
   ]
  },
  {
   "cell_type": "code",
   "execution_count": null,
   "metadata": {
    "collapsed": true
   },
   "outputs": [],
   "source": [
    "s_matched, f_matched, indptr = deferred_acceptance(s_prefs, f_prefs, caps)# call one to many deferred_acceptance algorithm"
   ]
  }
 ],
 "metadata": {
  "kernelspec": {
   "display_name": "Julia 0.5.2",
   "language": "julia",
   "name": "julia-0.5"
  },
  "language_info": {
   "file_extension": ".jl",
   "mimetype": "application/julia",
   "name": "julia",
   "version": "0.5.2"
  }
 },
 "nbformat": 4,
 "nbformat_minor": 2
}
